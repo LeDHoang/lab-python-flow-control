{
 "cells": [
  {
   "cell_type": "markdown",
   "id": "d3bfc191-8885-42ee-b0a0-bbab867c6f9f",
   "metadata": {
    "tags": []
   },
   "source": [
    "# Lab | Flow Control"
   ]
  },
  {
   "cell_type": "markdown",
   "id": "3851fcd1-cf98-4653-9c89-e003b7ec9400",
   "metadata": {},
   "source": [
    "## Exercise: Managing Customer Orders Optimized\n",
    "\n",
    "In the last lab, you were starting an online store that sells various products. To ensure smooth operations, you developed a program that manages customer orders and inventory.\n",
    "\n",
    "You did so without using flow control. Let's go a step further and improve this code.\n",
    "\n",
    "Follow the steps below to complete the exercise:\n",
    "\n",
    "1. Look at your code from the lab data structures, and improve repeated code with loops.\n",
    "\n",
    "2. Instead of asking the user to input the name of three products that a customer wants to order, do the following:\n",
    "    \n",
    "    a. Prompt the user to enter the name of a product that a customer wants to order.\n",
    "    \n",
    "    b. Add the product name to the \"customer_orders\" set.\n",
    "    \n",
    "    c. Ask the user if they want to add another product (yes/no).\n",
    "    \n",
    "    d. Continue the loop until the user does not want to add another product.\n",
    "\n",
    "3. Instead of updating the inventory by subtracting 1 from the quantity of each product, only do it for  the products that were ordered (those in \"customer_orders\")."
   ]
  },
  {
   "cell_type": "code",
   "execution_count": 1,
   "id": "ad4e3840-b89b-431e-80af-de389819bd69",
   "metadata": {},
   "outputs": [
    {
     "name": "stdin",
     "output_type": "stream",
     "text": [
      "Enter the quantity of t-shirt available:  3\n",
      "Enter the quantity of mug available:  4\n",
      "Enter the quantity of hat available:  5\n",
      "Enter the quantity of book available:  6\n",
      "Enter the quantity of keychain available:  7\n"
     ]
    }
   ],
   "source": [
    "products = [\"t-shirt\", \"mug\", \"hat\", \"book\", \"keychain\"]\n",
    "\n",
    "inventory = {}\n",
    "\n",
    "for product in products:\n",
    "    quantity = int(input(f\"Enter the quantity of {product} available: \"))\n",
    "    inventory[product] = quantity\n",
    "\n",
    "customer_orders = set()"
   ]
  },
  {
   "cell_type": "code",
   "execution_count": 2,
   "id": "ab48bb57-163c-4c87-a19d-7d7065ba5ac6",
   "metadata": {},
   "outputs": [
    {
     "name": "stdin",
     "output_type": "stream",
     "text": [
      "Enter a product name that the customer wants to order:  hat\n",
      "Do you want to add another product? (yes/no):  yes\n",
      "Enter a product name that the customer wants to order:  hat\n",
      "Do you want to add another product? (yes/no):  yes\n",
      "Enter a product name that the customer wants to order:  no\n"
     ]
    },
    {
     "name": "stdout",
     "output_type": "stream",
     "text": [
      "Product not recognized. Please enter a valid product.\n"
     ]
    },
    {
     "name": "stdin",
     "output_type": "stream",
     "text": [
      "Do you want to add another product? (yes/no):  no\n"
     ]
    }
   ],
   "source": [
    "while True:\n",
    "    order = input(\"Enter a product name that the customer wants to order: \")\n",
    "    if order in products:\n",
    "        customer_orders.add(order)\n",
    "    else:\n",
    "        print(\"Product not recognized. Please enter a valid product.\")\n",
    "        \n",
    "    more = input(\"Do you want to add another product? (yes/no): \").lower()\n",
    "    if more != \"yes\":\n",
    "        break"
   ]
  },
  {
   "cell_type": "code",
   "execution_count": 3,
   "id": "cfab5e66-207f-4172-878b-168cb5d19bc4",
   "metadata": {},
   "outputs": [
    {
     "name": "stdout",
     "output_type": "stream",
     "text": [
      "Customer Orders: {'hat'}\n"
     ]
    }
   ],
   "source": [
    "print(\"Customer Orders:\", customer_orders)\n"
   ]
  },
  {
   "cell_type": "code",
   "execution_count": 4,
   "id": "acf23dd4-a108-4a3c-99c7-3367453a826d",
   "metadata": {},
   "outputs": [],
   "source": [
    "# Calculate order statistics\n",
    "total_products_ordered = len(customer_orders)\n",
    "percentage_ordered = (total_products_ordered / len(products)) * 100\n",
    "\n",
    "# Store these statistics in a tuple\n",
    "order_status = (total_products_ordered, percentage_ordered)"
   ]
  },
  {
   "cell_type": "code",
   "execution_count": 5,
   "id": "e594f368-7363-4bdb-badd-d8bf50e04130",
   "metadata": {},
   "outputs": [
    {
     "name": "stdout",
     "output_type": "stream",
     "text": [
      "Order Statistics:\n",
      "Total Products Ordered: 1\n",
      "Percentage of Products Ordered: 20.00%\n",
      "Updated Inventory:\n",
      "t-shirt: 3\n",
      "mug: 4\n",
      "hat: 4\n",
      "book: 6\n",
      "keychain: 7\n"
     ]
    }
   ],
   "source": [
    "# Print the order statistics\n",
    "print(\"Order Statistics:\")\n",
    "print(f\"Total Products Ordered: {order_status[0]}\")\n",
    "print(f\"Percentage of Products Ordered: {order_status[1]:.2f}%\")\n",
    "\n",
    "# Update the inventory only for ordered products\n",
    "for order in customer_orders:\n",
    "    if inventory[order] > 0:\n",
    "        inventory[order] -= 1\n",
    "\n",
    "# Print the updated inventory\n",
    "print(\"Updated Inventory:\")\n",
    "for product, quantity in inventory.items():\n",
    "    print(f\"{product}: {quantity}\")"
   ]
  },
  {
   "cell_type": "code",
   "execution_count": null,
   "id": "262f8227-f1b3-401a-8122-cd9ed4e8a4d1",
   "metadata": {},
   "outputs": [],
   "source": []
  }
 ],
 "metadata": {
  "kernelspec": {
   "display_name": "Python 3 (ipykernel)",
   "language": "python",
   "name": "python3"
  },
  "language_info": {
   "codemirror_mode": {
    "name": "ipython",
    "version": 3
   },
   "file_extension": ".py",
   "mimetype": "text/x-python",
   "name": "python",
   "nbconvert_exporter": "python",
   "pygments_lexer": "ipython3",
   "version": "3.12.3"
  }
 },
 "nbformat": 4,
 "nbformat_minor": 5
}
